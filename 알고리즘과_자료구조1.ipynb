{
  "nbformat": 4,
  "nbformat_minor": 0,
  "metadata": {
    "colab": {
      "name": "알고리즘과 자료구조1.ipynb",
      "provenance": [],
      "collapsed_sections": [],
      "authorship_tag": "ABX9TyOHPsfx1jy/UJrLHjGzMKGn",
      "include_colab_link": true
    },
    "kernelspec": {
      "name": "python3",
      "display_name": "Python 3"
    },
    "language_info": {
      "name": "python"
    }
  },
  "cells": [
    {
      "cell_type": "markdown",
      "metadata": {
        "id": "view-in-github",
        "colab_type": "text"
      },
      "source": [
        "<a href=\"https://colab.research.google.com/github/Starwars010/Algorithm-DataStructure/blob/main/%EC%95%8C%EA%B3%A0%EB%A6%AC%EC%A6%98%EA%B3%BC_%EC%9E%90%EB%A3%8C%EA%B5%AC%EC%A1%B01.ipynb\" target=\"_parent\"><img src=\"https://colab.research.google.com/assets/colab-badge.svg\" alt=\"Open In Colab\"/></a>"
      ]
    },
    {
      "cell_type": "code",
      "execution_count": null,
      "metadata": {
        "id": "AEYDKDM2FIjp"
      },
      "outputs": [],
      "source": [
        "#알고리즘??\n",
        "\n",
        "#문제를 해결하기 위한 처리 절차를 구체적으로 순서에 따라 표현한 아이디어나 생각\n",
        "\n",
        "#알고리즘 자체는 일상생활에서도 많이 사용되고 있다\n",
        "#요리의 레시피, 음악의 악보, 가전제품 사용설명서...\n",
        "\n",
        "#알고지즘을 프로그래밍 언어로(파이썬, 자바, C...)기술하면 프로그램이다\n",
        "\n",
        "#알고리즘을 작성하는 방법에는 프로그래밍 언어, 수도코드, 흐름도 등이 있다"
      ]
    },
    {
      "cell_type": "code",
      "source": [
        "#1부터 n까지의 정수의 합을 구하는 알고리즘\n",
        "\n",
        "#1부터 10까지의 정수\n",
        "#1+2의 결과 3을 기억\n",
        "#기억해둔 3에 다음 숫자인 3을 더한 6 기억\n",
        "#기억해둔 6에 다음 숫자인 4를 더한 10 기억\n",
        "#............ 다음 숫자인 10을 더한 55 기억\n",
        "#마지막 저장한 숫자를 출력\n"
      ],
      "metadata": {
        "id": "oDmtbcEWIJ9Z"
      },
      "execution_count": null,
      "outputs": []
    },
    {
      "cell_type": "code",
      "source": [
        "sum = 0 #값을 누적시킬 변수\n",
        "n=10 #더할 마지막 수\n",
        "\n",
        "for i in range(1, n+1):\n",
        "  sum = sum + i #sum+=i\n",
        "\n",
        "print(sum)\n"
      ],
      "metadata": {
        "colab": {
          "base_uri": "https://localhost:8080/"
        },
        "id": "k_sZqriQIxSR",
        "outputId": "97381dbb-dd07-4fa0-c13f-2a4c9a33f417"
      },
      "execution_count": 3,
      "outputs": [
        {
          "output_type": "stream",
          "name": "stdout",
          "text": [
            "55\n"
          ]
        }
      ]
    },
    {
      "cell_type": "code",
      "source": [
        "def sum_m(m):\n",
        "  return m*(m+1)//2\n",
        "\n",
        "\n",
        "print(sum_m(10))"
      ],
      "metadata": {
        "colab": {
          "base_uri": "https://localhost:8080/"
        },
        "id": "NC2NxF_IJ9bU",
        "outputId": "77966e45-f173-45e2-882d-3b52a26fbf31"
      },
      "execution_count": 5,
      "outputs": [
        {
          "output_type": "stream",
          "name": "stdout",
          "text": [
            "55\n"
          ]
        }
      ]
    },
    {
      "cell_type": "code",
      "source": [
        "#최대값 찾기\n",
        "\n",
        "def find_max(a):\n",
        "  #전레 리스트의 갯수를 구한다\n",
        "  #일단, 첫번째(0번째, 4)값을 임시 최대값이라고 가정한다\n",
        "  #두번째 값을 첫번째값과 비교하여 둘 중 큰 값을 다시 최대값으로 설정\n",
        "  #세번째 값을 다시 임시 최대값과 비교하여 최대값으로 설정한다 \n",
        "  n=len(a)\n",
        "  mx=a[0]\n",
        "  for i in range(1, n):\n",
        "    if a[i] > mx:\n",
        "      mx=a[i]\n",
        "  return mx\n",
        "\n",
        "print(find_max([4,6,8,1,3,9]))"
      ],
      "metadata": {
        "colab": {
          "base_uri": "https://localhost:8080/"
        },
        "id": "27cLxG2jJ9dl",
        "outputId": "29058ace-ba9e-4cac-9ff8-71bea3b05940"
      },
      "execution_count": 7,
      "outputs": [
        {
          "output_type": "stream",
          "name": "stdout",
          "text": [
            "9\n"
          ]
        }
      ]
    },
    {
      "cell_type": "code",
      "source": [
        "#자료구조 stack, queue\n",
        "#stack 스택 - LIFO (Lastin First Out)\n",
        "#데이터가 입력되면 순서대로 쌓고\n",
        "#나중에 들어온 것부터 먼저 나간다\n",
        "\n",
        "def stack():\n",
        "  stacklist=[]\n",
        "  stacklist.append(1)\n",
        "  stacklist.append(2)\n",
        "  stacklist.append(3)\n",
        "  stacklist.append(4)\n",
        "  stacklist.append(5)\n",
        "\n",
        "  print(stacklist)\n",
        "\n",
        "print(stack())\n",
        "\n",
        "#먼저들어간게 먼저 나왔으므로 이건 스택이아님\n",
        "  \n"
      ],
      "metadata": {
        "colab": {
          "base_uri": "https://localhost:8080/"
        },
        "id": "CMFx63PnJ9h7",
        "outputId": "a8b90b3f-0356-44b2-fcda-1e51a6f56a1f"
      },
      "execution_count": 8,
      "outputs": [
        {
          "output_type": "stream",
          "name": "stdout",
          "text": [
            "[1, 2, 3, 4, 5]\n",
            "None\n"
          ]
        }
      ]
    },
    {
      "cell_type": "code",
      "source": [
        "def stack():\n",
        "  stacklist=[]\n",
        "  stacklist.append(1)\n",
        "  stacklist.append(2)\n",
        "  stacklist.append(3)\n",
        "  stacklist.append(4)\n",
        "  stacklist.append(5)\n",
        "\n",
        "  while stacklist: #있기만 하면 True이고 하나도 없으면 False가 나오는 거\n",
        "    print('pop value is', stacklist.pop())\n",
        "\n",
        "print(stack())\n",
        "\n",
        "#이게 stack을 개념적으로 구현한 거임"
      ],
      "metadata": {
        "colab": {
          "base_uri": "https://localhost:8080/"
        },
        "id": "zSjlW2c7J9kG",
        "outputId": "36d6fd9e-43d5-4003-d4b7-9f203ee9da93"
      },
      "execution_count": 9,
      "outputs": [
        {
          "output_type": "stream",
          "name": "stdout",
          "text": [
            "pop value is 5\n",
            "pop value is 4\n",
            "pop value is 3\n",
            "pop value is 2\n",
            "pop value is 1\n",
            "None\n"
          ]
        }
      ]
    },
    {
      "cell_type": "code",
      "source": [
        "#stack 활용\n",
        "list=[]\n",
        "while True:\n",
        "  site=input('방문할 사이트 주소를 입력(이전 사이트는 back): ')\n",
        "  if site != 'back':\n",
        "    list.append(site)\n",
        "  else:\n",
        "    list.pop()\n",
        "\n",
        "\n",
        "  if len(list) !=0:\n",
        "    print('현재 방문 중인 사이트는', list[-1],'입니다')\n",
        "  else:\n",
        "    print('방문 중인 사이트가 현재 없습니다')\n",
        "\n",
        "\n",
        "#사이트 방문과 백 버튼을 눌렀을 때를 구현해본것\n"
      ],
      "metadata": {
        "colab": {
          "base_uri": "https://localhost:8080/",
          "height": 408
        },
        "id": "LMSYcsAAJ9oK",
        "outputId": "cd7eea24-de41-41f5-88c8-8a5fe9ce82c0"
      },
      "execution_count": 10,
      "outputs": [
        {
          "name": "stdout",
          "output_type": "stream",
          "text": [
            "방문할 사이트 주소를 입력(이전 사이트는 back: naver.com\n",
            "현재 방문 중인 사이트는 naver.com 입니다\n",
            "방문할 사이트 주소를 입력(이전 사이트는 back: google\n",
            "현재 방문 중인 사이트는 google 입니다\n",
            "방문할 사이트 주소를 입력(이전 사이트는 back: back\n",
            "현재 방문 중인 사이트는 naver.com 입니다\n",
            "방문할 사이트 주소를 입력(이전 사이트는 back: back\n",
            "방문 중인 사이트가 현재 없습니다\n",
            "방문할 사이트 주소를 입력(이전 사이트는 back: back\n"
          ]
        },
        {
          "output_type": "error",
          "ename": "IndexError",
          "evalue": "ignored",
          "traceback": [
            "\u001b[0;31m---------------------------------------------------------------------------\u001b[0m",
            "\u001b[0;31mIndexError\u001b[0m                                Traceback (most recent call last)",
            "\u001b[0;32m<ipython-input-10-bd39edb52098>\u001b[0m in \u001b[0;36m<module>\u001b[0;34m()\u001b[0m\n\u001b[1;32m      6\u001b[0m     \u001b[0mlist\u001b[0m\u001b[0;34m.\u001b[0m\u001b[0mappend\u001b[0m\u001b[0;34m(\u001b[0m\u001b[0msite\u001b[0m\u001b[0;34m)\u001b[0m\u001b[0;34m\u001b[0m\u001b[0;34m\u001b[0m\u001b[0m\n\u001b[1;32m      7\u001b[0m   \u001b[0;32melse\u001b[0m\u001b[0;34m:\u001b[0m\u001b[0;34m\u001b[0m\u001b[0;34m\u001b[0m\u001b[0m\n\u001b[0;32m----> 8\u001b[0;31m     \u001b[0mlist\u001b[0m\u001b[0;34m.\u001b[0m\u001b[0mpop\u001b[0m\u001b[0;34m(\u001b[0m\u001b[0;34m)\u001b[0m\u001b[0;34m\u001b[0m\u001b[0;34m\u001b[0m\u001b[0m\n\u001b[0m\u001b[1;32m      9\u001b[0m \u001b[0;34m\u001b[0m\u001b[0m\n\u001b[1;32m     10\u001b[0m \u001b[0;34m\u001b[0m\u001b[0m\n",
            "\u001b[0;31mIndexError\u001b[0m: pop from empty list"
          ]
        }
      ]
    },
    {
      "cell_type": "code",
      "source": [
        "#큐 QUEUE FIFO (선입선출 First In First Out) 데이터가 입력되면 그 순서대로 쌓고 들어온 순서대로 먼저 나가는 자료구조\n",
        "#은행 줄서기\n",
        "\n",
        "def queue():\n",
        "  qlist=[]\n",
        "  qlist.append(1)\n",
        "  qlist.append(2)\n",
        "  qlist.append(3)\n",
        "  qlist.append(4)\n",
        "  qlist.append(5)\n",
        "\n",
        "  while qlist:\n",
        "    print(\"Get Value: \", qlist.pop(0))\n",
        "\n",
        "queue()"
      ],
      "metadata": {
        "colab": {
          "base_uri": "https://localhost:8080/"
        },
        "id": "2Q5aE8RHJ9rz",
        "outputId": "45ee58cc-56e5-45a4-e935-52b3f2e66be0"
      },
      "execution_count": 11,
      "outputs": [
        {
          "output_type": "stream",
          "name": "stdout",
          "text": [
            "Get Value:  1\n",
            "Get Value:  2\n",
            "Get Value:  3\n",
            "Get Value:  4\n",
            "Get Value:  5\n"
          ]
        }
      ]
    },
    {
      "cell_type": "code",
      "source": [
        "#queue 활용 예시\n",
        "\n",
        "list=[]\n",
        "\n",
        "while True:\n",
        "  fname= input('출력할 파일을 입력하세요(0을 누르면 출력 시작)>>')\n",
        "  if fname!= '0':\n",
        "    list.append(fname)\n",
        "  else:\n",
        "    print('출력을 시작합니다')\n",
        "    no=1\n",
        "    while list:\n",
        "      print(no, '번째 파일을 출력합니다', list.pop(0))\n",
        "      no +=1\n",
        "    print('모든 파일 출력을 완료하였습니다')\n",
        "    break"
      ],
      "metadata": {
        "colab": {
          "base_uri": "https://localhost:8080/"
        },
        "id": "nP6svZ8CJ9uO",
        "outputId": "63291c1d-851c-4d1d-e906-1eca6a9ae9b0"
      },
      "execution_count": 14,
      "outputs": [
        {
          "output_type": "stream",
          "name": "stdout",
          "text": [
            "출력할 파일을 입력하세요(0을 누르면 출력 시작)>>dog1.hwp\n",
            "출력할 파일을 입력하세요(0을 누르면 출력 시작)>>dog2.hwp\n",
            "출력할 파일을 입력하세요(0을 누르면 출력 시작)>>dog3.hwp\n",
            "출력할 파일을 입력하세요(0을 누르면 출력 시작)>>0\n",
            "출력을 시작합니다\n",
            "1 번째 파일을 출력합니다 dog1.hwp\n",
            "2 번째 파일을 출력합니다 dog2.hwp\n",
            "3 번째 파일을 출력합니다 dog3.hwp\n",
            "모든 파일 출력을 완료하였습니다\n"
          ]
        }
      ]
    },
    {
      "cell_type": "code",
      "source": [
        ""
      ],
      "metadata": {
        "id": "zHRxNt9Ab5_6"
      },
      "execution_count": null,
      "outputs": []
    },
    {
      "cell_type": "code",
      "source": [
        "#실전 예제 \n",
        "\n",
        "#palindrome\n",
        "#입력받은 값을 리스트로 저장하고\n",
        "#하나를 queue로 뽑고\n",
        "#하나는 stack로 뽑아서 \n",
        "#비교한다\n",
        "\n",
        "def palin(s):\n",
        "  qu=[]\n",
        "  st=[]\n",
        "  A=[]\n",
        "\n",
        "  for i in range(len(s)):\n",
        "    qu.append(s[i])\n",
        "    st.append(s[i])\n",
        "\n",
        "  print(qu)\n",
        "  print(st)\n",
        "\n",
        "  for i in range(len(s)):\n",
        "    if qu[i]==st[len(s)-1-i]:\n",
        "      A.append('a')\n",
        "    else:\n",
        "      A.append('b')\n",
        "\n",
        "      B=\"\".join(A)\n",
        "   \n",
        "\n",
        " if B.count('b')>=1:\n",
        "    print(\"False\")\n",
        " else:\n",
        "    print(\"True\")\n",
        "\n",
        "    \n",
        "\n",
        "\n",
        "\n",
        "print(palin('woy'))\n",
        "\n",
        "\n",
        "\n",
        "\n",
        "\n",
        "\n"
      ],
      "metadata": {
        "colab": {
          "base_uri": "https://localhost:8080/",
          "height": 136
        },
        "id": "xJm3lflOJ9wj",
        "outputId": "8be10382-2edf-418b-b74f-a33d59898eef"
      },
      "execution_count": 36,
      "outputs": [
        {
          "output_type": "error",
          "ename": "IndentationError",
          "evalue": "ignored",
          "traceback": [
            "\u001b[0;36m  File \u001b[0;32m\"<ipython-input-36-771841bc1b61>\"\u001b[0;36m, line \u001b[0;32m30\u001b[0m\n\u001b[0;31m    if B.count('b')>=1:\u001b[0m\n\u001b[0m                       ^\u001b[0m\n\u001b[0;31mIndentationError\u001b[0m\u001b[0;31m:\u001b[0m unindent does not match any outer indentation level\n"
          ]
        }
      ]
    },
    {
      "cell_type": "code",
      "source": [
        "def palin(s):\n",
        "  qu=[]\n",
        "  st=[]\n",
        "\n",
        "  for x in s:\n",
        "    if x.isalpha():\n",
        "      qu.append(x.lower())\n",
        "      st.append(x.lower())\n",
        "\n",
        "  while qu:\n",
        "    if qu.pop(0) != st.pop():\n",
        "      return False\n",
        "  return False\n",
        "\n",
        "print(palin('wow')) #True"
      ],
      "metadata": {
        "id": "436f4uXJJ9zV"
      },
      "execution_count": null,
      "outputs": []
    },
    {
      "cell_type": "code",
      "source": [
        "#괄호 확인\n",
        "# (2+3)*4       True\n",
        "# (2+3)*4)      False\n",
        "# (2+3)*((4-2)  False"
      ],
      "metadata": {
        "id": "zQiR1SmFhiKR"
      },
      "execution_count": null,
      "outputs": []
    },
    {
      "cell_type": "code",
      "source": [
        "A=[]\n",
        "\n",
        "\n",
        "def check(a):\n",
        "  for i in a:\n",
        "    A.append(i)\n",
        "  print(A)\n",
        "\n",
        "    A.\n",
        "\n",
        "\n",
        "\n",
        "\n",
        "\n",
        "\n",
        "a= input('확인을 원하는 수식을 쓰세요>>')\n",
        "check(a)\n"
      ],
      "metadata": {
        "colab": {
          "base_uri": "https://localhost:8080/"
        },
        "id": "PByiPlugJ-I5",
        "outputId": "b8d3f7c9-d919-4640-a3e6-9a078eaa5f9e"
      },
      "execution_count": 38,
      "outputs": [
        {
          "output_type": "stream",
          "name": "stdout",
          "text": [
            "확인을 원하는 수식을 쓰세요>>(())\n",
            "['(', '(', ')', ')']\n"
          ]
        }
      ]
    },
    {
      "cell_type": "code",
      "source": [
        "def check(a):\n",
        "\n",
        "  stack=[]\n",
        "  for k in a:\n",
        "    if k=='(':\n",
        "      stack.append(k)\n",
        "    elif k==')':\n",
        "      if len(stack)== 0:\n",
        "        print(\"NO\")\n",
        "        return \n",
        "      else:\n",
        "        stack.pop()\n",
        "  if len(stack)==0:\n",
        "    print(\"Yes\")\n",
        "    return   #함수에서 나가는 거는 : return\n",
        "  else:   #여는 것이 남아있을 때\n",
        "    print(\"NO\")\n",
        "    return\n",
        "\n",
        "\n",
        "\n",
        "a= input('확인을 원하는 수식을 입력하세요>>')\n",
        "check(a)"
      ],
      "metadata": {
        "id": "oQbrw9dJjA2k"
      },
      "execution_count": null,
      "outputs": []
    }
  ]
}